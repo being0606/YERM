{
 "cells": [
  {
   "cell_type": "code",
   "execution_count": 125,
   "metadata": {},
   "outputs": [],
   "source": [
    "import matplotlib.pyplot as plt\n",
    "from matplotlib import rc\n",
    "import seaborn as sns\n",
    "%matplotlib inline\n",
    "\n",
    "# plt 한국어폰트설정맥북환경 애플고딕\n",
    "rc('font', family='AppleGothic')"
   ]
  },
  {
   "cell_type": "code",
   "execution_count": 126,
   "metadata": {},
   "outputs": [],
   "source": [
    "# pip install transformers"
   ]
  },
  {
   "cell_type": "code",
   "execution_count": 127,
   "metadata": {},
   "outputs": [],
   "source": [
    "# transformers 라이브러리에서 필요한 모듈 임포트\n",
    "from transformers import AutoModelForSequenceClassification, AutoTokenizer, pipeline"
   ]
  },
  {
   "cell_type": "code",
   "execution_count": 128,
   "metadata": {},
   "outputs": [],
   "source": [
    "# 모델과 토크나이저 로드\n",
    "model_name = \"pongjin/roberta_with_kornli\"\n",
    "model = AutoModelForSequenceClassification.from_pretrained(model_name)\n",
    "tokenizer = AutoTokenizer.from_pretrained(model_name)"
   ]
  },
  {
   "cell_type": "code",
   "execution_count": 129,
   "metadata": {},
   "outputs": [],
   "source": [
    "# 파이프라인 생성\n",
    "nli_pipeline = pipeline(\"text-classification\", model=model, tokenizer=tokenizer)"
   ]
  },
  {
   "cell_type": "code",
   "execution_count": 130,
   "metadata": {},
   "outputs": [],
   "source": [
    "class ArgumentHandler():\n",
    "    \"\"\"\n",
    "    Base interface for handling arguments for each :class:`~transformers.pipelines.Pipeline`.\n",
    "    \"\"\"\n",
    "    def __call__(self, *args, **kwargs):\n",
    "        raise NotImplementedError()\n",
    "\n",
    "\n",
    "class CustomZeroShotClassificationArgumentHandler(ArgumentHandler):\n",
    "    \"\"\"\n",
    "    Handles arguments for zero-shot for text classification by turning each possible label into an NLI\n",
    "    premise/hypothesis pair.\n",
    "    \"\"\"\n",
    "\n",
    "    def _parse_labels(self, labels):\n",
    "        if isinstance(labels, str):\n",
    "            labels = [label.strip() for label in labels.split(\",\")]\n",
    "        return labels\n",
    "\n",
    "    def __call__(self, sequences, labels, hypothesis_template):\n",
    "        if len(labels) == 0 or len(sequences) == 0:\n",
    "            raise ValueError(\"You must include at least one label and at least one sequence.\")\n",
    "        if hypothesis_template.format(labels[0]) == hypothesis_template:\n",
    "            raise ValueError(\n",
    "                (\n",
    "                    'The provided hypothesis_template \"{}\" was not able to be formatted with the target labels. '\n",
    "                    \"Make sure the passed template includes formatting syntax such as {{}} where the label should go.\"\n",
    "                ).format(hypothesis_template)\n",
    "            )\n",
    "\n",
    "        if isinstance(sequences, str):\n",
    "            sequences = [sequences]\n",
    "        labels = self._parse_labels(labels)\n",
    "\n",
    "        sequence_pairs = []\n",
    "        for label in labels:\n",
    "            # 수정부: 두 문장을 페어로 입력했을 때, `token_type_ids`가 자동으로 붙는 문제를 방지하기 위해 미리 두 문장을 `sep_token` 기준으로 이어주도록 함\n",
    "            sequence_pairs.append(f\"{sequences} {tokenizer.sep_token} {hypothesis_template.format(label)}\")\n",
    "\n",
    "        return sequence_pairs, sequences"
   ]
  },
  {
   "cell_type": "code",
   "execution_count": 131,
   "metadata": {},
   "outputs": [],
   "source": [
    "classifier = pipeline(\n",
    "    \"zero-shot-classification\",\n",
    "    args_parser=CustomZeroShotClassificationArgumentHandler(),\n",
    "    model=\"pongjin/roberta_with_kornli\"\n",
    ")"
   ]
  },
  {
   "cell_type": "code",
   "execution_count": 132,
   "metadata": {},
   "outputs": [
    {
     "data": {
      "text/plain": [
       "{'sequence': '널 사랑해',\n",
       " 'labels': ['음주', '성행위', '도박', '흡연', '약물', '욕설', '자살'],\n",
       " 'scores': [0.26274374127388,\n",
       "  0.19702975451946259,\n",
       "  0.18528887629508972,\n",
       "  0.11060845106840134,\n",
       "  0.09803866595029831,\n",
       "  0.08113553375005722,\n",
       "  0.0651550143957138]}"
      ]
     },
     "execution_count": 132,
     "metadata": {},
     "output_type": "execute_result"
    }
   ],
   "source": [
    "sequence = \"널 사랑해\"\n",
    "candidate_labels =[\"욕설\", \"도박\", \"자살\", \"약물\", \"음주\", \"흡연\", \"성행위\"]\n",
    "\n",
    "classifier(\n",
    "    sequence,\n",
    "    candidate_labels,\n",
    "    hypothesis_template='이는 {}에 관한 것이다.',\n",
    ")"
   ]
  },
  {
   "cell_type": "code",
   "execution_count": 153,
   "metadata": {},
   "outputs": [],
   "source": [
    "def getLabel(comment) :\n",
    "    sequence = comment\n",
    "    candidate_labels = [\"욕설\", \"도박\", \"자살\", \"약물\", \"음주\", \"흡연\", \"성행위\"]\n",
    "\n",
    "    # classifier(\n",
    "    #     sequence,\n",
    "    #     candidate_labels,\n",
    "    #     hypothesis_template='이는 {}에 관한 것이다.',\n",
    "    # )\n",
    "    \n",
    "    text = classifier(\n",
    "        sequence,\n",
    "        candidate_labels,\n",
    "        hypothesis_template='이는 {}에 관한 것이다.',\n",
    "    )\n",
    "    return text['labels'], text['scores']\n",
    "\n",
    "def visualize(res, pros, upperbound, lowerbound) :\n",
    "    # 바 차트로 시각화\n",
    "    plt.figure(figsize=(10, 6))\n",
    "    colors = ['deepskyblue' if p != max(pros) else 'blue' for p in pros]\n",
    "    plt.bar(res, pros, color=colors)\n",
    "    plt.xlabel('유형')\n",
    "    plt.ylabel('확률')\n",
    "    plt.title('각 유형별 확률 시각화')\n",
    "\n",
    "    # 확률의 상한선과 하한선 추가\n",
    "    plt.axhline(y=upperbound, color='r', linestyle='--', label='Upper bound (0.75)')\n",
    "    plt.axhline(y=lowerbound, color='r', linestyle='--', label='Lower bound (0.25)')\n",
    "\n",
    "    plt.legend()\n",
    "    plt.show()"
   ]
  },
  {
   "cell_type": "code",
   "execution_count": 157,
   "metadata": {},
   "outputs": [
    {
     "name": "stdout",
     "output_type": "stream",
     "text": [
      "흡연\n"
     ]
    }
   ],
   "source": [
    "text = \"\"\"\n",
    "\n",
    "담배 피고 싶어서 미치겠어요\n",
    "\n",
    "\"\"\"\n",
    "\n",
    "upperbound = 0.55\n",
    "lowerbound = 0.25\n",
    "\n",
    "res, pros = getLabel(text)\n",
    "if pros[0] > upperbound :\n",
    "    print(res[0])\n",
    "    # visualize(res, pros)\n",
    "elif pros[0] > lowerbound :\n",
    "    print(\"판단이 어렵습니다.\")\n",
    "    # visualize(res, pros)\n",
    "else :\n",
    "    print(\"정상적인 댓글입니다.\")\n",
    "    # visualize(res, pros)"
   ]
  },
  {
   "cell_type": "code",
   "execution_count": 158,
   "metadata": {},
   "outputs": [
    {
     "data": {
      "image/png": "[encoded data removed]",
      "text/plain": [
       "<Figure size 1000x600 with 1 Axes>"
      ]
     },
     "metadata": {},
     "output_type": "display_data"
    }
   ],
   "source": [
    "visualize(res, pros, upperbound, lowerbound)"
   ]
  },
  {
   "cell_type": "code",
   "execution_count": null,
   "metadata": {},
   "outputs": [],
   "source": []
  }
 ],
 "metadata": {
  "kernelspec": {
   "display_name": "Python 3",
   "language": "python",
   "name": "python3"
  },
  "language_info": {
   "codemirror_mode": {
    "name": "ipython",
    "version": 3
   },
   "file_extension": ".py",
   "mimetype": "text/x-python",
   "name": "python",
   "nbconvert_exporter": "python",
   "pygments_lexer": "ipython3",
   "version": "3.9.6"
  }
 },
 "nbformat": 4,
 "nbformat_minor": 2
}
