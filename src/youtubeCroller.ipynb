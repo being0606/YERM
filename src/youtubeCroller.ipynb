{
 "cells": [
  {
   "cell_type": "code",
   "execution_count": 158,
   "metadata": {},
   "outputs": [],
   "source": [
    "URL = \"https://www.youtube.com/watch?v=y316Fh2Qlzk\""
   ]
  },
  {
   "cell_type": "code",
   "execution_count": 159,
   "metadata": {},
   "outputs": [],
   "source": [
    "from selenium import webdriver\n",
    "from selenium.webdriver.common.by import By\n",
    "from selenium.webdriver.common.keys import Keys\n",
    "import pandas as pd\n",
    "import time\n",
    "import random"
   ]
  },
  {
   "cell_type": "code",
   "execution_count": 160,
   "metadata": {},
   "outputs": [],
   "source": [
    "# 웹드라이버 설정\n",
    "browser = webdriver.Chrome()\n",
    "browser.get(URL)  # 유튜브 비디오 URL 입력\n",
    "\n",
    "time.sleep(2)  # 페이지 로딩 대기\n",
    "\n",
    "# 댓글 섹션까지 스크롤\n",
    "browser.find_element(By.TAG_NAME, 'body').send_keys(Keys.PAGE_DOWN)\n",
    "time.sleep(2)  # 동적 로딩 대기"
   ]
  },
  {
   "cell_type": "code",
   "execution_count": 161,
   "metadata": {},
   "outputs": [],
   "source": [
    "# 스크롤 다운하여 모든 댓글 로드\n",
    "last_height = browser.execute_script(\"return document.documentElement.scrollHeight\")\n",
    "while True:\n",
    "    browser.execute_script(\"window.scrollTo(0, document.documentElement.scrollHeight);\")\n",
    "    time.sleep(random.uniform(1.5, 3.0))  # 로딩과 다양성을 위해 랜덤 대기 시간 적용\n",
    "    new_height = browser.execute_script(\"return document.documentElement.scrollHeight\")\n",
    "    if new_height == last_height:\n",
    "        break\n",
    "    last_height = new_height"
   ]
  },
  {
   "cell_type": "code",
   "execution_count": 162,
   "metadata": {},
   "outputs": [
    {
     "name": "stdout",
     "output_type": "stream",
     "text": [
      "                사용자이름                                            comment 좋아요수\n",
      "0    @user-xf5os8nn3i  신이시여\\n우리 유작가님께 200살의 수명을 주십시오\\n우리곁에 오래오래 함께 할수...  132\n",
      "1        @rosemom8309  두둥~~~~\\n드디어, 마침내 ~~!!\\n유작가님의 흐믓한  미소!!  ㅎㅎ\\n조변...   93\n",
      "2    @user-kr6nx5no2s  유시민 작가님이 그 자리에 그저 계셔주신 것만으로도 든든합니다. 감사합니다.\\n항상...  140\n",
      "3     @danielle-wo5rx             언제들어도 재미있는 지리이야기!\\n유작가님과 함께라서 더욱 즐겁습니다  114\n",
      "4    @user-pd1xr2op1n  위대한 정치가인 노무현 대통령님 존경하고 넘 그립습니다.\\n박학다식 유작가님, 박교...  172\n",
      "5     @rayawesome6762                잘 들었습니다. 조수진 변호사님 나오니까 훨씬 즐겁고 재밌다요~  119\n",
      "6     @nayoungkim5688  유시민작가님이 계셔서 든든합니다.고맙습니다.감사합니다\\n조수진변호사님 항상 감사합니...  147\n",
      "7    @user-us9ol9dc3j     제가 젤 좋아한 책중 하나입니다.\\n잘 듣겠습니다 \\n감사해요 알릴레오 북스 ♡.♡   71\n",
      "8    @user-ve7yc1rn5q                         덕분에 매번 교양을 쌓을 수 있습니다 감사합니다   60\n",
      "9         @hunjukim20                             역시 아는것이 힘입니다 유시민작가님은 짱   29\n",
      "10   @user-jf4ik8jy1s  진행자와 손님 위치를 바꾸셔서 너무 잘 되었습니다!!\\n보는 시선이 훨씬 편해졌네요...   11\n",
      "11            @sj3865                        총균쇠. 이번 기회에 읽어야겠다. \\n감사합니다.   48\n",
      "12       @yeonkim7458                                   세분 말씀 감사히 잘들었습니다   39\n",
      "13        @ttottonuna         자리배치가 좋아졌네요^^ 오늘도 재미나게 잘 들었습니다, 다음주도 기대기대~   18\n",
      "14     @StillSpringTV  이번편 총,균,세 편을 보다가 문득 두달전쯤에 유튜브에서 본게 생각났는데...kbs...   35\n",
      "15   @user-um3lv9ce5v  유시민작가님~~유튜브 어디든\\n어준총수 겸공이든 매불쇼든\\n어디든 좀 나와서 현상황...   16\n",
      "16   @user-qb6th7kk7l   총균쇠,,,,도서관에서 늘 못본척했는데~~\\n오늘 방송 듣고 보니 꼭 읽어야겠네요 ㅎㅎ   28\n",
      "17     @eunheekim8132             유익한 방송 너무 좋아요 다음회를 기다립니다\\n유시민작가님 존경합니다    9\n",
      "18   @user-hw4vk4rv2w            귀에 쏙쏙들어오게 설명해주셔 감사해요~~ 너무 재밌게 방송 봤습니다!!   11\n",
      "19         @jhkim2655  어떤 책을 읽어야 할까 고민 할때  명쾌하게 알려주는 책 길잡이\\n언제나 맛보기는 ...   10\n",
      "20       @kyungjoo531               좋은분들이 계시는 세상에서 잠시 쉽니다...~\\n세분이 귀하십니다   15\n",
      "21   @sungyonglee1095  조수진 변호사님 우리 모두는 알고 있습니다.수진님 언제나처럼 우리안에 함께 해  주...    8\n",
      "22         @youichell  지난 영상부터 피드백 좋네요^^ 진행자와 손님 좌석배치 딱 좋습니다. 오늘도 잘 시...   43\n",
      "23   @user-ie1hn2zq7y             읽다 말았었는데, 다시 한 번 시도할 계기가 되었습니다. 감사합니다.    3\n",
      "24   @user-pi2op2db7g        알릴레오가 있어 정말 좋아요\\n유시민작가님 존경하고\\n조수진변호사님 사랑합니다   24\n",
      "25    @aprilhands9682  지난 김이재교수님 편에서 달렸던 댓글에 대한 피드백 자리배치에 찬사를 보냅니다. 댓...   11\n",
      "26   @michellepark208         아 드뎌드뎌 : 넘 기다렸는데 역쉬 하는군요 : 두근두근~~ 시청전 선댓글    14\n",
      "27            @Tong2_        유시민작가님은 제인생에 큰영향을 준 사람\\n              존경합니다   19\n",
      "28          @pchoice0                                      이 시대 마음의 양식!!   25\n",
      "29   @user-ip7so1vh1x  알릴레오 북스가 기여한 점이 있다!!!!!!!!!!!!!!!!!!!!!!!!!!!!...   50\n",
      "30   @user-eg1jk9nn7p                                 감사합니다\\n기다려지는 시간이예요   11\n",
      "31   @user-pw7jh5xx1r  총균쇠 단숨에 다 읽지는 못했지만 몇일간 엄청 재미있게 읽었으며 기분이 고조되기도 했음다    9\n",
      "32         @hjkim3283  지난번 지리의 힘 후속으로 왜 총균쇠를 선택했는지 알게된 시간이었습니다 ~2부도 기...    2\n",
      "33   @user-qd7ei2wl7x                        서울대 지리학과 박정재 교수님 항상 응원합니다!!   40\n",
      "34   @user-dn4yc9hk9b                       재미있게 \\n유익하게\\n잘 들었습니다 \\n고맙습니다   13\n",
      "35  @kyungshinlim8261     어려워서 쉽게 시도하기 어려운 책도 알북에서 하연 재미지네요~  너무나 소중한 알북    2\n",
      "36   @user-eo3lh2uj2e                              좋아요 수고 하십니다 항상 응원 합니다    7\n",
      "37   @user-sr7to6dy7x      우와 대박\\n바로 어제부터 읽기 시작한 총균쇠\\n방송전에 다 읽었어야 했는데...   17\n",
      "38   @user-gs7lo1yl1v            너무 재밌게 단숨에 읽었던 책 입니다,존경하는 유시민작가님 고맙습니다~   28\n",
      "39   @user-wf3iw5ll5y  오랫만에 알릴레오북스 듣습니다.\\n그간 제법 게을러져서 머리써야하는 컨텐츠에 손이 ...    5\n",
      "40   @user-vc8ms5no4f                                             감사합니다.    2\n",
      "41   @user-jp3jc7cy9d                 매일 아침 낭독하고 있는데, 새롭게 알게되는 기쁨이 좋습니다.    3\n",
      "42       @passion3383                    우선 좋아요 부터 누르고 잘 시청해보겠습니다\\n총 균 쇠   13\n",
      "43         @badak1651                       ㅋㅋ 더이상 미루지 않고 소개해 주셔서 감사합니다~   10\n",
      "44      @jksong-mr9dq     지리의 힘,  총균쇠 반복해서 들을 만한 좋은 책이고 좋은 해설입니다. 감사합니다.    2\n",
      "45     @jamesmoon4731                                      와~ 다음주가 기대된다.    2\n",
      "46   @user-ji4qq7qz5q                         이번주에 다 읽었는데 알릴레오에 딱~ 나왔내요.    9\n",
      "47   @user-vi4tb6rq1n                                    유익한방송,,항상 감사해요~    1\n",
      "48   @user-ko5eh7tj2x        사피엔스, 총균쇠도 한번 읽어봐야겠네요 ㅎㅎ\\n벽돌책을 너무 좋아하거든요~.~   14\n",
      "49       @AnnaO-gw9xu  아직 읽진 않았지만 책장에 꽂혀 있는걸 보면 뿌듯합니다\\n언젠간 꼭 읽고말거라는 다...    6\n",
      "50        @helenk7619  조 수진 변호사님과 유 시민 작가님, 더욱 존경합니다. 지리의 힘을 권유해주셔서 또...  222\n",
      "51          @s.a.2431  잼대표님 옆에 박교수님 같은 든든한 분이 많아져야 할텐데요 ㅠㅠㅠ 교수님 4년 뒤엔...   20\n",
      "52   @user-sp9gf6di1k                                    조수진 변호사님 화이팅입니다    7\n",
      "53   @user-bk3fx6hc1q  우리 집에도  있어요~ 관상용이  되어 버렸지만  언젠가는  읽으리라 하고  있습니...    2\n",
      "54   @user-sr7to6dy7x  농업혁명이 인류에게 축복일수도 있겠지만\\n오히려 그 잉여산물로 인해 지배와 억압이 ...   16\n",
      "55          @Tara0829  제목이 식상함에도 유시민 작가님 믿고 들어요. 조 변호사님 잘하고 계시죠? 응원합니다 늘    8\n",
      "56   @user-kv8ww7ft8h  너무 유명하고 자주 다뤄져서 잘 안다고 생각한 [총,균,쇠]!   알북스에서 들으니...    3\n",
      "57       @mrspark1225  너무 재밌는 알리레오!\\n제라드 다이아몬드  총  균  쇠!\\n또 읽어보면 또다른 ...    5\n",
      "58   @user-qm9jz4wb7e                               늘 기다리고 있어요 \\n알릴레오 북스    0\n",
      "59   @user-jf6mm4nn9e  유작가님이 진정 이 자리를 즐기고 있다는 흐뭇한 미소가 인상적이네요. 정치보다는 작...    2\n"
     ]
    }
   ],
   "source": [
    "# 댓글 요소 수집\n",
    "comments = browser.find_elements(By.XPATH, '//*[@id=\"content-text\"]')\n",
    "usernames = browser.find_elements(By.XPATH, '//*[@id=\"author-text\"]')\n",
    "likes = browser.find_elements(By.XPATH, '//*[contains(@id, \"vote-count-middle\")]')\n",
    "#dates = browser.find_elements(By.XPATH, '//*[@id=\"header-author\"]//yt-formatted-string/a')\n",
    "#reply_counts = browser.find_elements(By.XPATH, '//ytd-comment-thread-renderer//span[@id=\"vote-count-middle\"]/following-sibling::span')\n",
    "\n",
    "# DataFrame 생성\n",
    "data = {\n",
    "    # '작성일': [date.text for date in dates],\n",
    "    '사용자이름': [username.text for username in usernames],\n",
    "    'comment': [comment.text for comment in comments],\n",
    "    '좋아요수': [like.text if like.text != '' else '0' for like in likes],\n",
    "    # '답글수': [reply.text.split()[0] if reply.text != '' else '0' for reply in reply_counts]\n",
    "}\n",
    "df = pd.DataFrame(data)\n",
    "\n",
    "# DataFrame 확인\n",
    "print(df)\n"
   ]
  },
  {
   "cell_type": "code",
   "execution_count": 163,
   "metadata": {},
   "outputs": [],
   "source": [
    "# pip install wordcloud"
   ]
  },
  {
   "cell_type": "code",
   "execution_count": 164,
   "metadata": {},
   "outputs": [],
   "source": [
    "from wordcloud import WordCloud\n",
    "import matplotlib.pyplot as plt\n",
    "from matplotlib import rc\n",
    "import seaborn as sns\n",
    "%matplotlib inline\n",
    "\n",
    "# plt 한국어폰트설정맥북환경 애플고딕\n",
    "rc('font', family='AppleGothic')\n"
   ]
  },
  {
   "cell_type": "code",
   "execution_count": 165,
   "metadata": {},
   "outputs": [
    {
     "data": {
      "text/plain": [
       "0      신이시여 우리 유작가님께    살의 수명을 주십시오 우리곁에 오래오래 함께 할수 있도록\n",
       "1     두둥     드디어  마침내      유작가님의 흐믓한  미소       조변님도 ...\n",
       "2     유시민 작가님이 그 자리에 그저 계셔주신 것만으로도 든든합니다  감사합니다  항상 ...\n",
       "3                 언제들어도 재미있는 지리이야기  유작가님과 함께라서 더욱 즐겁습니다\n",
       "4     위대한 정치가인 노무현 대통령님 존경하고 넘 그립습니다  박학다식 유작가님  박교수...\n",
       "5                   잘 들었습니다  조수진 변호사님 나오니까 훨씬 즐겁고 재밌다요 \n",
       "6     유시민작가님이 계셔서 든든합니다 고맙습니다 감사합니다 조수진변호사님 항상 감사합니다...\n",
       "7          제가 젤 좋아한 책중 하나입니다  잘 듣겠습니다  감사해요 알릴레오 북스    \n",
       "8                            덕분에 매번 교양을 쌓을 수 있습니다 감사합니다\n",
       "9                                역시 아는것이 힘입니다 유시민작가님은 짱\n",
       "10    진행자와 손님 위치를 바꾸셔서 너무 잘 되었습니다   보는 시선이 훨씬 편해졌네요    \n",
       "11                           총균쇠  이번 기회에 읽어야겠다   감사합니다 \n",
       "12                                     세분 말씀 감사히 잘들었습니다\n",
       "13           자리배치가 좋아졌네요   오늘도 재미나게 잘 들었습니다  다음주도 기대기대 \n",
       "14    이번편 총 균 세 편을 보다가 문득 두달전쯤에 유튜브에서 본게 생각났는데      ...\n",
       "15    유시민작가님  유튜브 어디든 어준총수 겸공이든 매불쇼든 어디든 좀 나와서 현상황에 ...\n",
       "16      총균쇠    도서관에서 늘 못본척했는데   오늘 방송 듣고 보니 꼭 읽어야겠네요   \n",
       "17                유익한 방송 너무 좋아요 다음회를 기다립니다 유시민작가님 존경합니다\n",
       "18              귀에 쏙쏙들어오게 설명해주셔 감사해요   너무 재밌게 방송 봤습니다  \n",
       "19    어떤 책을 읽어야 할까 고민 할때  명쾌하게 알려주는 책 길잡이 언제나 맛보기는 달...\n",
       "20                  좋은분들이 계시는 세상에서 잠시 쉽니다     세분이 귀하십니다\n",
       "21    조수진 변호사님 우리 모두는 알고 있습니다 수진님 언제나처럼 우리안에 함께 해  주...\n",
       "22    지난 영상부터 피드백 좋네요   진행자와 손님 좌석배치 딱 좋습니다  오늘도 잘 시...\n",
       "23               읽다 말았었는데  다시 한 번 시도할 계기가 되었습니다  감사합니다 \n",
       "24            알릴레오가 있어 정말 좋아요 유시민작가님 존경하고 조수진변호사님 사랑합니다\n",
       "25    지난 김이재교수님 편에서 달렸던 댓글에 대한 피드백 자리배치에 찬사를 보냅니다  댓...\n",
       "26           아 드뎌드뎌   넘 기다렸는데 역쉬 하는군요   두근두근   시청전 선댓글 \n",
       "27           유시민작가님은 제인생에 큰영향을 준 사람               존경합니다\n",
       "28                                        이 시대 마음의 양식  \n",
       "29    알릴레오 북스가 기여한 점이 있다                            ...\n",
       "30                                    감사합니다 기다려지는 시간이예요\n",
       "31    총균쇠 단숨에 다 읽지는 못했지만 몇일간 엄청 재미있게 읽었으며 기분이 고조되기도 했음다\n",
       "32    지난번 지리의 힘 후속으로 왜 총균쇠를 선택했는지 알게된 시간이었습니다   부도 기...\n",
       "33                          서울대 지리학과 박정재 교수님 항상 응원합니다  \n",
       "34                            재미있게  유익하게 잘 들었습니다  고맙습니다\n",
       "35       어려워서 쉽게 시도하기 어려운 책도 알북에서 하연 재미지네요   너무나 소중한 알북\n",
       "36                                좋아요 수고 하십니다 항상 응원 합니다\n",
       "37          우와 대박 바로 어제부터 읽기 시작한 총균쇠 방송전에 다 읽었어야 했는데   \n",
       "38              너무 재밌게 단숨에 읽었던 책 입니다 존경하는 유시민작가님 고맙습니다 \n",
       "39    오랫만에 알릴레오북스 듣습니다  그간 제법 게을러져서 머리써야하는 컨텐츠에 손이 안...\n",
       "40                                               감사합니다 \n",
       "41                   매일 아침 낭독하고 있는데  새롭게 알게되는 기쁨이 좋습니다 \n",
       "42                       우선 좋아요 부터 누르고 잘 시청해보겠습니다 총 균 쇠\n",
       "43                            더이상 미루지 않고 소개해 주셔서 감사합니다 \n",
       "44       지리의 힘   총균쇠 반복해서 들을 만한 좋은 책이고 좋은 해설입니다  감사합니다 \n",
       "45                                        와  다음주가 기대된다 \n",
       "46                           이번주에 다 읽었는데 알릴레오에 딱  나왔내요 \n",
       "47                                      유익한방송  항상 감사해요 \n",
       "48           사피엔스  총균쇠도 한번 읽어봐야겠네요    벽돌책을 너무 좋아하거든요   \n",
       "49    아직 읽진 않았지만 책장에 꽂혀 있는걸 보면 뿌듯합니다 언젠간 꼭 읽고말거라는 다짐...\n",
       "50    조 수진 변호사님과 유 시민 작가님  더욱 존경합니다  지리의 힘을 권유해주셔서 또...\n",
       "51    잼대표님 옆에 박교수님 같은 든든한 분이 많아져야 할텐데요     교수님  년 뒤엔...\n",
       "52                                      조수진 변호사님 화이팅입니다\n",
       "53    우리 집에도  있어요  관상용이  되어 버렸지만  언젠가는  읽으리라 하고  있습니...\n",
       "54    농업혁명이 인류에게 축복일수도 있겠지만 오히려 그 잉여산물로 인해 지배와 억압이 시...\n",
       "55    제목이 식상함에도 유시민 작가님 믿고 들어요  조 변호사님 잘하고 계시죠  응원합니다 늘\n",
       "56    너무 유명하고 자주 다뤄져서 잘 안다고 생각한  총 균 쇠     알북스에서 들으니...\n",
       "57    너무 재밌는 알리레오  제라드 다이아몬드  총  균  쇠  또 읽어보면 또다른 것을...\n",
       "58                                  늘 기다리고 있어요  알릴레오 북스\n",
       "59    유작가님이 진정 이 자리를 즐기고 있다는 흐뭇한 미소가 인상적이네요  정치보다는 작...\n",
       "Name: comment, dtype: object"
      ]
     },
     "execution_count": 165,
     "metadata": {},
     "output_type": "execute_result"
    }
   ],
   "source": [
    "df['comment'] = df['comment'].str.replace('[^가-힣]', ' ', regex = True)\n",
    "df['comment']"
   ]
  },
  {
   "cell_type": "code",
   "execution_count": 166,
   "metadata": {},
   "outputs": [
    {
     "data": {
      "text/plain": [
       "'신이시여 우리 유작가님께    살의 수명을 주십시오 우리곁에 오래오래 함께 할수 있도록 두둥     드디어  마침내      유작가님의 흐믓한  미소       조변님도  엄청 기대에 찬 목소리     시청하는 나는  아는 만큼 보이고 보이는 만큼 들린다  를  깨닫고 있음  역시 알릴레오의 책 선정은 최고    정말정말 고맙습니다  알릴레오 알라뷰   유시민 작가님이 그 자리에 그저 계셔주신 것만으로도 든든합니다  감사합니다  항상 건강하셔요      언제들어도 재미있는 지리이야기  유작가님과 함께라서 더욱 즐겁습니다 위대한 정치가인 노무현 대통령님 존경하고 넘 그립습니다  박학다식 유작가님  박교수님  조변호사님 알찬 정보 고맙습니다   잘 들었습니다  조수진 변호사님 나오니까 훨씬 즐겁고 재밌다요  유시민작가님이 계셔서 든든합니다 고맙습니다 감사합니다 조수진변호사님 항상 감사합니다 두 분 언제나 존경합니다 제가 젤 좋아한 책중 하나입니다  잘 듣겠습니다  감사해요 알릴레오 북스     덕분에 매번 교양을 쌓을 수 있습니다 감사합니다 역시 아는것이 힘입니다 유시민작가님은 짱 진행자와 손님 위치를 바꾸셔서 너무 잘 되었습니다   보는 시선이 훨씬 편해졌네요     총균쇠  이번 기회에 읽어야겠다   감사합니다  세분 말씀 감사히 잘들었습니다 자리배치가 좋아졌네요   오늘도 재미나게 잘 들었습니다  다음주도 기대기대  이번편 총 균 세 편을 보다가 문득 두달전쯤에 유튜브에서 본게 생각났는데      에서         일 방영한 사람과 사람들 프로그램에  백 년을 살아보니  편에 시골에 사시는    세 최돈춘 어르신 삶에 대해서 나오는데   가  연세가 올해 어떻게 되세요  라고 물으니 어르신이    살이야     살 내가 대정 원년에 태어났어  강릉에서 나보다 나이 많은 사람이 없어   그러면서 주민등록증을 보여주며 예전에 없었단 말이여  해방이후 자유당이 지나가고 한참지나서 그때 한거지  고종 황제가 내가  살에 사망했다고 노인들이 우리 아버지보다 많은 여들이 재사 차려놓고 찬물 떠놓고 머리풀고 곡하고  돈 있는 사람은 그날 거기서 백립쓰고 돈이 없는 사람은 시커먼 갓을 쓰고 상주 노릇은 못하니 갓위에 창호지를 둥글에해서 갓위에 눌러 붙여서 하더라고 서울쪽을 보면서 사배를 하더라고 그날 그렇게 하더라고    후반에 보면 서울대 이익섭 명예교수가 어르신댁에  년전부터 한달에 한번 찾아와서 강릉사투리 연구와 안부인사도 묻고 하면서 중간에 하는 말씀이  저 어르신들은 한분 한분이 도서관이다  저분들이 돌아가시면 도서관하나가 없어지는 것입니다  라는 부분이 기억에 많이남던데    이 책주제와 상관없는 얘기를 주절히 쓴 이유는 유시민씨가 저 어르신 나이때인    세가 되고 나중에 돌아가시면 정말 큰 도서관 하나가 사라지는게 아닌가 싶네요  오래 오래 지금처럼 우리곁에서 좋은 얘기들 많이 해주셨으면 좋겠네요  유시민작가님  유튜브 어디든 어준총수 겸공이든 매불쇼든 어디든 좀 나와서 현상황에 대해 현안을 들려주세요 답답해서 뵙고싶어요    총균쇠    도서관에서 늘 못본척했는데   오늘 방송 듣고 보니 꼭 읽어야겠네요    유익한 방송 너무 좋아요 다음회를 기다립니다 유시민작가님 존경합니다 귀에 쏙쏙들어오게 설명해주셔 감사해요   너무 재밌게 방송 봤습니다   어떤 책을 읽어야 할까 고민 할때  명쾌하게 알려주는 책 길잡이 언제나 맛보기는 달콤하네요 열심히 잘 따라가 보겠습니다  고맙습니다  좋은분들이 계시는 세상에서 잠시 쉽니다     세분이 귀하십니다 조수진 변호사님 우리 모두는 알고 있습니다 수진님 언제나처럼 우리안에 함께 해  주세요 화이팅   지난 영상부터 피드백 좋네요   진행자와 손님 좌석배치 딱 좋습니다  오늘도 잘 시청하겠습니다  읽다 말았었는데  다시 한 번 시도할 계기가 되었습니다  감사합니다  알릴레오가 있어 정말 좋아요 유시민작가님 존경하고 조수진변호사님 사랑합니다 지난 김이재교수님 편에서 달렸던 댓글에 대한 피드백 자리배치에 찬사를 보냅니다  댓글의 효능감을 살리는 알릴레오북스 멋지십니다  학창시절 암기과목으로만 생각했던 지리  연속해서 이렇게 재밌고 흥미로운 이야기를 들려주셔서 감사합니다  가슴 벅찬 성찰의 시간이었어요  아 드뎌드뎌   넘 기다렸는데 역쉬 하는군요   두근두근   시청전 선댓글  유시민작가님은 제인생에 큰영향을 준 사람               존경합니다 이 시대 마음의 양식   알릴레오 북스가 기여한 점이 있다                                   감사합니다 기다려지는 시간이예요 총균쇠 단숨에 다 읽지는 못했지만 몇일간 엄청 재미있게 읽었으며 기분이 고조되기도 했음다 지난번 지리의 힘 후속으로 왜 총균쇠를 선택했는지 알게된 시간이었습니다   부도 기대됩니다  우리 삶의 지표를 만들어주는 알릴레오 북스 응원하고 감사합니다  서울대 지리학과 박정재 교수님 항상 응원합니다   재미있게  유익하게 잘 들었습니다  고맙습니다 어려워서 쉽게 시도하기 어려운 책도 알북에서 하연 재미지네요   너무나 소중한 알북 좋아요 수고 하십니다 항상 응원 합니다 우와 대박 바로 어제부터 읽기 시작한 총균쇠 방송전에 다 읽었어야 했는데    너무 재밌게 단숨에 읽었던 책 입니다 존경하는 유시민작가님 고맙습니다  오랫만에 알릴레오북스 듣습니다  그간 제법 게을러져서 머리써야하는 컨텐츠에 손이 안갔었는데 총균쇠는 참을 수 없죠  여전히 분위기 좋고 내용 알찬데  조수진변호사님 진행은 한결더 유연하고 단단해졌다는 느낌이 듭니다  화이팅입니다  감사합니다  매일 아침 낭독하고 있는데  새롭게 알게되는 기쁨이 좋습니다  우선 좋아요 부터 누르고 잘 시청해보겠습니다 총 균 쇠    더이상 미루지 않고 소개해 주셔서 감사합니다  지리의 힘   총균쇠 반복해서 들을 만한 좋은 책이고 좋은 해설입니다  감사합니다  와  다음주가 기대된다  이번주에 다 읽었는데 알릴레오에 딱  나왔내요  유익한방송  항상 감사해요  사피엔스  총균쇠도 한번 읽어봐야겠네요    벽돌책을 너무 좋아하거든요    아직 읽진 않았지만 책장에 꽂혀 있는걸 보면 뿌듯합니다 언젠간 꼭 읽고말거라는 다짐만 남긴채     조 수진 변호사님과 유 시민 작가님  더욱 존경합니다  지리의 힘을 권유해주셔서 또 감사드립니다  외교의 중요성을 일깨워준 참으로 좋은 책 이었습니다  이번 총 균 쇠를 읽으면 지리의 힘과 함께 지구와 세계사를 더 잘 이해할 수 있을듯 합니다  총균쇠는 아직 안 읽었는데 이번 대화를 들으니 더 기대가  큽니다  잼대표님 옆에 박교수님 같은 든든한 분이 많아져야 할텐데요     교수님  년 뒤엔 파란점퍼 입고 만나요        조수진 변호사님 화이팅입니다 우리 집에도  있어요  관상용이  되어 버렸지만  언젠가는  읽으리라 하고  있습니다  너무  소중한  영상  아껴아껴 볼꺼예요  농업혁명이 인류에게 축복일수도 있겠지만 오히려 그 잉여산물로 인해 지배와 억압이 시작되었다고도 볼수 있다 제목이 식상함에도 유시민 작가님 믿고 들어요  조 변호사님 잘하고 계시죠  응원합니다 늘 너무 유명하고 자주 다뤄져서 잘 안다고 생각한  총 균 쇠     알북스에서 들으니 왜케 새롭다  전달하는 힘이 다르네요  역시 알북스    너무 재밌는 알리레오  제라드 다이아몬드  총  균  쇠  또 읽어보면 또다른 것을 깨닫고 이령게 책나눔은 사고의 확장을 가져다 주는 보물  늘 기다리고 있어요  알릴레오 북스 유작가님이 진정 이 자리를 즐기고 있다는 흐뭇한 미소가 인상적이네요  정치보다는 작가가 좋으신 거 같습니다   '"
      ]
     },
     "execution_count": 166,
     "metadata": {},
     "output_type": "execute_result"
    }
   ],
   "source": [
    "# 댓글 컬럼을 하나의 문자열로 결합\n",
    "all_comments_string = df['comment'].str.cat(sep=' ')\n",
    "\n",
    "# 결과 출력\n",
    "all_comments_string"
   ]
  },
  {
   "cell_type": "code",
   "execution_count": 167,
   "metadata": {},
   "outputs": [],
   "source": [
    "# !pip install konlpy"
   ]
  },
  {
   "cell_type": "code",
   "execution_count": 168,
   "metadata": {},
   "outputs": [],
   "source": [
    "# 자바 버전 이슈로 실행이 안됨\n",
    "\n",
    "\n",
    "# from konlpy.tag import Okt\n",
    "# import pandas as pd\n",
    "\n",
    "# # Okt 형태소 분석기 인스턴스 생성\n",
    "# okt = Okt()\n",
    "\n",
    "\n",
    "# # 모든 댓글을 하나의 문자열로 결합\n",
    "# comments_string = df['comment'].str.cat(sep=' ')\n",
    "\n",
    "# # 명사 추출\n",
    "# nouns = okt.nouns(comments_string)\n",
    "\n",
    "# # 추출된 명사를 다시 하나의 문자열로 결합\n",
    "# nouns_string = ' '.join(nouns)\n",
    "\n",
    "\n",
    "# # 워드 클라우드 생성\n",
    "# wordcloud = WordCloud(font_path = '/System/Library/Fonts/AppleGothic.ttf',\n",
    "#                       width = 800,\n",
    "#                       height = 400, \n",
    "#                       background_color ='white').generate(nouns_string)\n",
    "\n",
    "# # 워드 클라우드 표시\n",
    "# plt.figure(figsize=(100, 50))\n",
    "# plt.imshow(wordcloud, interpolation='bilinear')\n",
    "# plt.axis(\"off\")\n",
    "# plt.show()"
   ]
  },
  {
   "cell_type": "code",
   "execution_count": 169,
   "metadata": {},
   "outputs": [],
   "source": [
    "# pip install soynlp"
   ]
  },
  {
   "cell_type": "code",
   "execution_count": 172,
   "metadata": {},
   "outputs": [
    {
     "name": "stdout",
     "output_type": "stream",
     "text": [
      "[Noun Extractor] use default predictors\n",
      "[Noun Extractor] num features: pos=3929, neg=2321, common=107\n",
      "[Noun Extractor] counting eojeols\n",
      "[EojeolCounter] n eojeol = 45 from 1 sents. mem=0.068 Gb                    \n",
      "[Noun Extractor] complete eojeol counter -> lr graph\n",
      "[Noun Extractor] has been trained. #eojeols=52, mem=0.069 Gb\n",
      "[Noun Extractor] batch prediction was completed for 16 words\n"
     ]
    },
    {
     "name": "stdout",
     "output_type": "stream",
     "text": [
      "[Noun Extractor] checked compounds. discovered 0 compounds\n",
      "[Noun Extractor] postprocessing detaching_features : 4 -> 4\n",
      "[Noun Extractor] postprocessing ignore_features : 4 -> 4\n",
      "[Noun Extractor] postprocessing ignore_NJ : 4 -> 4\n",
      "[Noun Extractor] 4 nouns (0 compounds) with min frequency=1\n",
      "[Noun Extractor] flushing was done. mem=0.069 Gb                    \n",
      "[Noun Extractor] 15.38 % eojeols are covered\n",
      "비디오 주제 설명 제\n"
     ]
    }
   ],
   "source": [
    "from soynlp.noun import LRNounExtractor_v2\n",
    "import pandas as pd\n",
    "\n",
    "# 데이터프레임 생성\n",
    "data = {\n",
    "    'comment': [\n",
    "        \"이 비디오 너무 유익해요, 감사합니다!\",\n",
    "        \"정말 도움이 되는 튜투리얼이었어요, 많이 배웠습니다!\",\n",
    "        \"이 주제에 대해 더 많은 비디오를 만들어주실 수 있나요?\",\n",
    "        \"설명이 명확하지 않아요, 하지만 감사합니다.\",\n",
    "        \"훌륭한 설명, 명확하고 간결해요!\",\n",
    "        \"이 내용은 제가 주제를 이해하는데 도움이 되지 않았어요.\",\n",
    "        \"감사해요, 이 비디오는 정말 눈을 뜨게 하는 내용이었어요!\",\n",
    "        \"다음 번에는 예시를 더 많이 제공해 주세요.\"\n",
    "    ]\n",
    "}\n",
    "df = pd.DataFrame(data)\n",
    "\n",
    "# 모든 댓글을 하나의 문자열로 결합\n",
    "comments_string = df['comment'].str.cat(sep=' ')\n",
    "\n",
    "# soynlp 명사 추출기 인스턴스 생성\n",
    "noun_extractor = LRNounExtractor_v2()\n",
    "nouns = noun_extractor.train_extract([comments_string])  # 배열 형태로 입력\n",
    "\n",
    "# 추출된 명사를 다시 하나의 문자열로 결합\n",
    "nouns_string = ' '.join(nouns.keys())  # 추출된 명사들의 key만 사용\n",
    "\n",
    "# 결과 출력\n",
    "print(nouns_string)\n"
   ]
  },
  {
   "cell_type": "code",
   "execution_count": null,
   "metadata": {},
   "outputs": [],
   "source": []
  }
 ],
 "metadata": {
  "kernelspec": {
   "display_name": "Python 3",
   "language": "python",
   "name": "python3"
  },
  "language_info": {
   "codemirror_mode": {
    "name": "ipython",
    "version": 3
   },
   "file_extension": ".py",
   "mimetype": "text/x-python",
   "name": "python",
   "nbconvert_exporter": "python",
   "pygments_lexer": "ipython3",
   "version": "3.9.6"
  }
 },
 "nbformat": 4,
 "nbformat_minor": 2
}
