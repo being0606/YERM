{
 "cells": [
  {
   "cell_type": "code",
   "execution_count": 175,
   "metadata": {},
   "outputs": [],
   "source": [
    "URL = \"https://www.youtube.com/watch?v=y316Fh2Qlzk\""
   ]
  },
  {
   "cell_type": "code",
   "execution_count": 176,
   "metadata": {},
   "outputs": [],
   "source": [
    "from selenium import webdriver\n",
    "from selenium.webdriver.common.by import By\n",
    "from selenium.webdriver.common.keys import Keys\n",
    "import pandas as pd\n",
    "import time\n",
    "import random"
   ]
  },
  {
   "cell_type": "code",
   "execution_count": 177,
   "metadata": {},
   "outputs": [],
   "source": [
    "# 웹드라이버 설정\n",
    "browser = webdriver.Chrome()\n",
    "browser.get(URL)  # 유튜브 비디오 URL 입력\n",
    "\n",
    "time.sleep(2)  # 페이지 로딩 대기\n",
    "\n",
    "# 댓글 섹션까지 스크롤\n",
    "browser.find_element(By.TAG_NAME, 'body').send_keys(Keys.PAGE_DOWN)\n",
    "time.sleep(2)  # 동적 로딩 대기"
   ]
  },
  {
   "cell_type": "code",
   "execution_count": 178,
   "metadata": {},
   "outputs": [],
   "source": [
    "# 스크롤 다운하여 모든 댓글 로드\n",
    "last_height = browser.execute_script(\"return document.documentElement.scrollHeight\")\n",
    "while True:\n",
    "    browser.execute_script(\"window.scrollTo(0, document.documentElement.scrollHeight);\")\n",
    "    time.sleep(random.uniform(1.5, 3.0))  # 로딩과 다양성을 위해 랜덤 대기 시간 적용\n",
    "    new_height = browser.execute_script(\"return document.documentElement.scrollHeight\")\n",
    "    if new_height == last_height:\n",
    "        break\n",
    "    last_height = new_height"
   ]
  },
  {
   "cell_type": "code",
   "execution_count": 179,
   "metadata": {},
   "outputs": [
    {
     "name": "stdout",
     "output_type": "stream",
     "text": [
      "                사용자이름                                            comment 좋아요수\n",
      "0    @user-xf5os8nn3i  신이시여\\n우리 유작가님께 200살의 수명을 주십시오\\n우리곁에 오래오래 함께 할수...  132\n",
      "1    @user-um3lv9ce5v  유시민작가님~~유튜브 어디든\\n어준총수 겸공이든 매불쇼든\\n어디든 좀 나와서 현상황...   16\n",
      "2    @user-pd1xr2op1n  위대한 정치가인 노무현 대통령님 존경하고 넘 그립습니다.\\n박학다식 유작가님, 박교...  172\n",
      "3    @user-kr6nx5no2s  유시민 작가님이 그 자리에 그저 계셔주신 것만으로도 든든합니다. 감사합니다.\\n항상...  140\n",
      "4     @nayoungkim5688  유시민작가님이 계셔서 든든합니다.고맙습니다.감사합니다\\n조수진변호사님 항상 감사합니...  147\n",
      "5     @rayawesome6762                잘 들었습니다. 조수진 변호사님 나오니까 훨씬 즐겁고 재밌다요~  119\n",
      "6     @danielle-wo5rx             언제들어도 재미있는 지리이야기!\\n유작가님과 함께라서 더욱 즐겁습니다  114\n",
      "7        @rosemom8309  두둥~~~~\\n드디어, 마침내 ~~!!\\n유작가님의 흐믓한  미소!!  ㅎㅎ\\n조변...   93\n",
      "8    @user-us9ol9dc3j     제가 젤 좋아한 책중 하나입니다.\\n잘 듣겠습니다 \\n감사해요 알릴레오 북스 ♡.♡   71\n",
      "9             @sj3865                        총균쇠. 이번 기회에 읽어야겠다. \\n감사합니다.   48\n",
      "10   @sungyonglee1095  조수진 변호사님 우리 모두는 알고 있습니다.수진님 언제나처럼 우리안에 함께 해  주...    8\n",
      "11   @user-ve7yc1rn5q                         덕분에 매번 교양을 쌓을 수 있습니다 감사합니다   60\n",
      "12        @hunjukim20                             역시 아는것이 힘입니다 유시민작가님은 짱   29\n",
      "13     @StillSpringTV  이번편 총,균,세 편을 보다가 문득 두달전쯤에 유튜브에서 본게 생각났는데...kbs...   35\n",
      "14        @helenk7619  조 수진 변호사님과 유 시민 작가님, 더욱 존경합니다. 지리의 힘을 권유해주셔서 또...  222\n",
      "15       @yeonkim7458                                   세분 말씀 감사히 잘들었습니다   39\n",
      "16            @Tong2_        유시민작가님은 제인생에 큰영향을 준 사람\\n              존경합니다   19\n",
      "17         @youichell  지난 영상부터 피드백 좋네요^^ 진행자와 손님 좌석배치 딱 좋습니다. 오늘도 잘 시...   43\n",
      "18   @user-qb6th7kk7l   총균쇠,,,,도서관에서 늘 못본척했는데~~\\n오늘 방송 듣고 보니 꼭 읽어야겠네요 ㅎㅎ   28\n",
      "19       @kyungjoo531               좋은분들이 계시는 세상에서 잠시 쉽니다...~\\n세분이 귀하십니다   15\n",
      "20     @eunheekim8132             유익한 방송 너무 좋아요 다음회를 기다립니다\\n유시민작가님 존경합니다    9\n",
      "21   @user-pi2op2db7g        알릴레오가 있어 정말 좋아요\\n유시민작가님 존경하고\\n조수진변호사님 사랑합니다   24\n",
      "22   @user-jf4ik8jy1s  진행자와 손님 위치를 바꾸셔서 너무 잘 되었습니다!!\\n보는 시선이 훨씬 편해졌네요...   11\n",
      "23   @user-gs7lo1yl1v            너무 재밌게 단숨에 읽었던 책 입니다,존경하는 유시민작가님 고맙습니다~   28\n",
      "24   @user-qd7ei2wl7x                        서울대 지리학과 박정재 교수님 항상 응원합니다!!   40\n",
      "25          @pchoice0                                      이 시대 마음의 양식!!   25\n",
      "26          @Tara0829  제목이 식상함에도 유시민 작가님 믿고 들어요. 조 변호사님 잘하고 계시죠? 응원합니다 늘    8\n",
      "27         @jhkim2655  어떤 책을 읽어야 할까 고민 할때  명쾌하게 알려주는 책 길잡이\\n언제나 맛보기는 ...   10\n",
      "28   @user-ip7so1vh1x  알릴레오 북스가 기여한 점이 있다!!!!!!!!!!!!!!!!!!!!!!!!!!!!...   50\n",
      "29        @ttottonuna         자리배치가 좋아졌네요^^ 오늘도 재미나게 잘 들었습니다, 다음주도 기대기대~   18\n",
      "30   @michellepark208         아 드뎌드뎌 : 넘 기다렸는데 역쉬 하는군요 : 두근두근~~ 시청전 선댓글    14\n",
      "31   @user-ie1hn2zq7y             읽다 말았었는데, 다시 한 번 시도할 계기가 되었습니다. 감사합니다.    3\n",
      "32   @user-pw7jh5xx1r  총균쇠 단숨에 다 읽지는 못했지만 몇일간 엄청 재미있게 읽었으며 기분이 고조되기도 했음다    9\n",
      "33    @aprilhands9682  지난 김이재교수님 편에서 달렸던 댓글에 대한 피드백 자리배치에 찬사를 보냅니다. 댓...   11\n",
      "34   @user-sr7to6dy7x      우와 대박\\n바로 어제부터 읽기 시작한 총균쇠\\n방송전에 다 읽었어야 했는데...   17\n",
      "35          @s.a.2431  잼대표님 옆에 박교수님 같은 든든한 분이 많아져야 할텐데요 ㅠㅠㅠ 교수님 4년 뒤엔...   20\n",
      "36         @hjkim3283  지난번 지리의 힘 후속으로 왜 총균쇠를 선택했는지 알게된 시간이었습니다 ~2부도 기...    2\n",
      "37   @user-wf3iw5ll5y  오랫만에 알릴레오북스 듣습니다.\\n그간 제법 게을러져서 머리써야하는 컨텐츠에 손이 ...    5\n",
      "38         @badak1651                       ㅋㅋ 더이상 미루지 않고 소개해 주셔서 감사합니다~   10\n",
      "39   @user-hw4vk4rv2w            귀에 쏙쏙들어오게 설명해주셔 감사해요~~ 너무 재밌게 방송 봤습니다!!   11\n",
      "40   @user-ul6wk9hu4n            조수진 변호사님, 유시민 작가님.\\n오래오래 함께 해주세요!\\n제발요~    5\n",
      "41   @user-sr7to6dy7x  농업혁명이 인류에게 축복일수도 있겠지만\\n오히려 그 잉여산물로 인해 지배와 억압이 ...   16\n",
      "42   @user-sp9gf6di1k                                    조수진 변호사님 화이팅입니다    7\n",
      "43       @passion3383                    우선 좋아요 부터 누르고 잘 시청해보겠습니다\\n총 균 쇠   13\n",
      "44       @AnnaO-gw9xu  아직 읽진 않았지만 책장에 꽂혀 있는걸 보면 뿌듯합니다\\n언젠간 꼭 읽고말거라는 다...    6\n",
      "45  @kyungshinlim8261     어려워서 쉽게 시도하기 어려운 책도 알북에서 하연 재미지네요~  너무나 소중한 알북    2\n",
      "46   @user-eo3lh2uj2e                              좋아요 수고 하십니다 항상 응원 합니다    7\n",
      "47   @user-eg1jk9nn7p                                 감사합니다\\n기다려지는 시간이예요   11\n",
      "48   @user-jp3jc7cy9d                 매일 아침 낭독하고 있는데, 새롭게 알게되는 기쁨이 좋습니다.    3\n",
      "49   @user-jf6mm4nn9e  유작가님이 진정 이 자리를 즐기고 있다는 흐뭇한 미소가 인상적이네요. 정치보다는 작...    2\n",
      "50           @ysi2177                                         유시민 천재....   20\n",
      "51   @user-kv8ww7ft8h  너무 유명하고 자주 다뤄져서 잘 안다고 생각한 [총,균,쇠]!   알북스에서 들으니...    3\n",
      "52   @user-dn4yc9hk9b                       재미있게 \\n유익하게\\n잘 들었습니다 \\n고맙습니다   13\n",
      "53   @user-ji4qq7qz5q                         이번주에 다 읽었는데 알릴레오에 딱~ 나왔내요.    9\n",
      "54      @jksong-mr9dq     지리의 힘,  총균쇠 반복해서 들을 만한 좋은 책이고 좋은 해설입니다. 감사합니다.    2\n",
      "55       @mrspark1225  너무 재밌는 알리레오!\\n제라드 다이아몬드  총  균  쇠!\\n또 읽어보면 또다른 ...    5\n",
      "56   @user-bk3fx6hc1q  우리 집에도  있어요~ 관상용이  되어 버렸지만  언젠가는  읽으리라 하고  있습니...    2\n",
      "57   @user-ko5eh7tj2x        사피엔스, 총균쇠도 한번 읽어봐야겠네요 ㅎㅎ\\n벽돌책을 너무 좋아하거든요~.~   14\n",
      "58          @anej4710                           유시민 작가님 팬입니다.\\n항상 응원합니다     2\n",
      "59   @user-sw4xn2qi7l                                             감사합니다.    9\n"
     ]
    }
   ],
   "source": [
    "# 댓글 요소 수집\n",
    "comments = browser.find_elements(By.XPATH, '//*[@id=\"content-text\"]')\n",
    "usernames = browser.find_elements(By.XPATH, '//*[@id=\"author-text\"]')\n",
    "likes = browser.find_elements(By.XPATH, '//*[contains(@id, \"vote-count-middle\")]')\n",
    "#dates = browser.find_elements(By.XPATH, '//*[@id=\"header-author\"]//yt-formatted-string/a')\n",
    "#reply_counts = browser.find_elements(By.XPATH, '//ytd-comment-thread-renderer//span[@id=\"vote-count-middle\"]/following-sibling::span')\n",
    "\n",
    "# DataFrame 생성\n",
    "data = {\n",
    "    # '작성일': [date.text for date in dates],\n",
    "    '사용자이름': [username.text for username in usernames],\n",
    "    'comment': [comment.text for comment in comments],\n",
    "    '좋아요수': [like.text if like.text != '' else '0' for like in likes],\n",
    "    # '답글수': [reply.text.split()[0] if reply.text != '' else '0' for reply in reply_counts]\n",
    "}\n",
    "df = pd.DataFrame(data)\n",
    "\n",
    "# DataFrame 확인\n",
    "print(df)\n"
   ]
  },
  {
   "cell_type": "code",
   "execution_count": 180,
   "metadata": {},
   "outputs": [],
   "source": [
    "# pip install wordcloud"
   ]
  },
  {
   "cell_type": "code",
   "execution_count": 188,
   "metadata": {},
   "outputs": [],
   "source": [
    "from wordcloud import WordCloud\n",
    "import matplotlib.pyplot as plt\n",
    "from matplotlib import rc\n",
    "import seaborn as sns\n",
    "%matplotlib inline\n",
    "\n",
    "# plt 한국어폰트설정맥북환경 애플고딕\n",
    "rc('font', family='AppleGothic')"
   ]
  },
  {
   "cell_type": "code",
   "execution_count": 182,
   "metadata": {},
   "outputs": [
    {
     "data": {
      "text/plain": [
       "0      신이시여 우리 유작가님께    살의 수명을 주십시오 우리곁에 오래오래 함께 할수 있도록\n",
       "1     유시민작가님  유튜브 어디든 어준총수 겸공이든 매불쇼든 어디든 좀 나와서 현상황에 ...\n",
       "2     위대한 정치가인 노무현 대통령님 존경하고 넘 그립습니다  박학다식 유작가님  박교수...\n",
       "3     유시민 작가님이 그 자리에 그저 계셔주신 것만으로도 든든합니다  감사합니다  항상 ...\n",
       "4     유시민작가님이 계셔서 든든합니다 고맙습니다 감사합니다 조수진변호사님 항상 감사합니다...\n",
       "5                   잘 들었습니다  조수진 변호사님 나오니까 훨씬 즐겁고 재밌다요 \n",
       "6                 언제들어도 재미있는 지리이야기  유작가님과 함께라서 더욱 즐겁습니다\n",
       "7     두둥     드디어  마침내      유작가님의 흐믓한  미소       조변님도 ...\n",
       "8          제가 젤 좋아한 책중 하나입니다  잘 듣겠습니다  감사해요 알릴레오 북스    \n",
       "9                            총균쇠  이번 기회에 읽어야겠다   감사합니다 \n",
       "10    조수진 변호사님 우리 모두는 알고 있습니다 수진님 언제나처럼 우리안에 함께 해  주...\n",
       "11                           덕분에 매번 교양을 쌓을 수 있습니다 감사합니다\n",
       "12                               역시 아는것이 힘입니다 유시민작가님은 짱\n",
       "13    이번편 총 균 세 편을 보다가 문득 두달전쯤에 유튜브에서 본게 생각났는데      ...\n",
       "14    조 수진 변호사님과 유 시민 작가님  더욱 존경합니다  지리의 힘을 권유해주셔서 또...\n",
       "15                                     세분 말씀 감사히 잘들었습니다\n",
       "16           유시민작가님은 제인생에 큰영향을 준 사람               존경합니다\n",
       "17    지난 영상부터 피드백 좋네요   진행자와 손님 좌석배치 딱 좋습니다  오늘도 잘 시...\n",
       "18      총균쇠    도서관에서 늘 못본척했는데   오늘 방송 듣고 보니 꼭 읽어야겠네요   \n",
       "19                  좋은분들이 계시는 세상에서 잠시 쉽니다     세분이 귀하십니다\n",
       "20                유익한 방송 너무 좋아요 다음회를 기다립니다 유시민작가님 존경합니다\n",
       "21            알릴레오가 있어 정말 좋아요 유시민작가님 존경하고 조수진변호사님 사랑합니다\n",
       "22    진행자와 손님 위치를 바꾸셔서 너무 잘 되었습니다   보는 시선이 훨씬 편해졌네요    \n",
       "23              너무 재밌게 단숨에 읽었던 책 입니다 존경하는 유시민작가님 고맙습니다 \n",
       "24                          서울대 지리학과 박정재 교수님 항상 응원합니다  \n",
       "25                                        이 시대 마음의 양식  \n",
       "26    제목이 식상함에도 유시민 작가님 믿고 들어요  조 변호사님 잘하고 계시죠  응원합니다 늘\n",
       "27    어떤 책을 읽어야 할까 고민 할때  명쾌하게 알려주는 책 길잡이 언제나 맛보기는 달...\n",
       "28    알릴레오 북스가 기여한 점이 있다                            ...\n",
       "29           자리배치가 좋아졌네요   오늘도 재미나게 잘 들었습니다  다음주도 기대기대 \n",
       "30           아 드뎌드뎌   넘 기다렸는데 역쉬 하는군요   두근두근   시청전 선댓글 \n",
       "31               읽다 말았었는데  다시 한 번 시도할 계기가 되었습니다  감사합니다 \n",
       "32    총균쇠 단숨에 다 읽지는 못했지만 몇일간 엄청 재미있게 읽었으며 기분이 고조되기도 했음다\n",
       "33    지난 김이재교수님 편에서 달렸던 댓글에 대한 피드백 자리배치에 찬사를 보냅니다  댓...\n",
       "34          우와 대박 바로 어제부터 읽기 시작한 총균쇠 방송전에 다 읽었어야 했는데   \n",
       "35    잼대표님 옆에 박교수님 같은 든든한 분이 많아져야 할텐데요     교수님  년 뒤엔...\n",
       "36    지난번 지리의 힘 후속으로 왜 총균쇠를 선택했는지 알게된 시간이었습니다   부도 기...\n",
       "37    오랫만에 알릴레오북스 듣습니다  그간 제법 게을러져서 머리써야하는 컨텐츠에 손이 안...\n",
       "38                            더이상 미루지 않고 소개해 주셔서 감사합니다 \n",
       "39              귀에 쏙쏙들어오게 설명해주셔 감사해요   너무 재밌게 방송 봤습니다  \n",
       "40                조수진 변호사님  유시민 작가님  오래오래 함께 해주세요  제발요 \n",
       "41    농업혁명이 인류에게 축복일수도 있겠지만 오히려 그 잉여산물로 인해 지배와 억압이 시...\n",
       "42                                      조수진 변호사님 화이팅입니다\n",
       "43                       우선 좋아요 부터 누르고 잘 시청해보겠습니다 총 균 쇠\n",
       "44    아직 읽진 않았지만 책장에 꽂혀 있는걸 보면 뿌듯합니다 언젠간 꼭 읽고말거라는 다짐...\n",
       "45       어려워서 쉽게 시도하기 어려운 책도 알북에서 하연 재미지네요   너무나 소중한 알북\n",
       "46                                좋아요 수고 하십니다 항상 응원 합니다\n",
       "47                                    감사합니다 기다려지는 시간이예요\n",
       "48                   매일 아침 낭독하고 있는데  새롭게 알게되는 기쁨이 좋습니다 \n",
       "49    유작가님이 진정 이 자리를 즐기고 있다는 흐뭇한 미소가 인상적이네요  정치보다는 작...\n",
       "50                                           유시민 천재    \n",
       "51    너무 유명하고 자주 다뤄져서 잘 안다고 생각한  총 균 쇠     알북스에서 들으니...\n",
       "52                            재미있게  유익하게 잘 들었습니다  고맙습니다\n",
       "53                           이번주에 다 읽었는데 알릴레오에 딱  나왔내요 \n",
       "54       지리의 힘   총균쇠 반복해서 들을 만한 좋은 책이고 좋은 해설입니다  감사합니다 \n",
       "55    너무 재밌는 알리레오  제라드 다이아몬드  총  균  쇠  또 읽어보면 또다른 것을...\n",
       "56    우리 집에도  있어요  관상용이  되어 버렸지만  언젠가는  읽으리라 하고  있습니...\n",
       "57           사피엔스  총균쇠도 한번 읽어봐야겠네요    벽돌책을 너무 좋아하거든요   \n",
       "58                              유시민 작가님 팬입니다  항상 응원합니다 \n",
       "59                                               감사합니다 \n",
       "Name: comment, dtype: object"
      ]
     },
     "execution_count": 182,
     "metadata": {},
     "output_type": "execute_result"
    }
   ],
   "source": [
    "df['comment'] = df['comment'].str.replace('[^가-힣]', ' ', regex = True)\n",
    "df['comment']"
   ]
  },
  {
   "cell_type": "code",
   "execution_count": 183,
   "metadata": {},
   "outputs": [],
   "source": [
    "# pip install soynlp"
   ]
  },
  {
   "cell_type": "code",
   "execution_count": 184,
   "metadata": {},
   "outputs": [
    {
     "name": "stdout",
     "output_type": "stream",
     "text": [
      "[Noun Extractor] use default predictors\n",
      "[Noun Extractor] num features: pos=3929, neg=2321, common=107\n",
      "[Noun Extractor] counting eojeols\n",
      "[EojeolCounter] n eojeol = 645 from 1 sents. mem=0.064 Gb                    \n",
      "[Noun Extractor] complete eojeol counter -> lr graph\n",
      "[Noun Extractor] has been trained. #eojeols=816, mem=0.068 Gb\n",
      "[Noun Extractor] batch prediction was completed for 251 words\n",
      "[Noun Extractor] checked compounds. discovered 3 compounds\n",
      "[Noun Extractor] postprocessing detaching_features : 76 -> 75\n",
      "[Noun Extractor] postprocessing ignore_features : 75 -> 70\n",
      "[Noun Extractor] postprocessing ignore_NJ : 70 -> 70\n",
      "[Noun Extractor] 70 nouns (3 compounds) with min frequency=1\n",
      "[Noun Extractor] flushing was done. mem=0.069 Gb                    \n",
      "[Noun Extractor] 29.17 % eojeols are covered\n"
     ]
    },
    {
     "data": {
      "text/plain": [
       "'유시민작가님 유작가님 변호사님 알릴레오 총균쇠 화이팅 유시민 도서관 우리곁 유튜브 알북스 언제나 작가님 어르신 오늘 시간 감사 존경 시청 영상 재미 시도 알게 자리 정치 응원 든든 시작 사람 언젠 좋아 강릉 알북 기대 댓글 유익 미소 북스 생각 지리 말씀 한분 세분 새 책 부 못 대 것 힘 쇠 바 참 여 편 살 삶 귀 왜 년 갓 내 세 매 분 많 돈 손 알릴레오북스 기대기대'"
      ]
     },
     "execution_count": 184,
     "metadata": {},
     "output_type": "execute_result"
    }
   ],
   "source": [
    "from soynlp.noun import LRNounExtractor_v2\n",
    "import pandas as pd\n",
    "\n",
    "# 모든 댓글을 하나의 문자열로 결합\n",
    "comments_string = df['comment'].str.cat(sep=' ')\n",
    "\n",
    "# soynlp 명사 추출기 인스턴스 생성\n",
    "noun_extractor = LRNounExtractor_v2()\n",
    "nouns = noun_extractor.train_extract([comments_string])  # 배열 형태로 입력\n",
    "\n",
    "# 추출된 명사를 다시 하나의 문자열로 결합\n",
    "nouns_string = ' '.join(nouns.keys())  # 추출된 명사들의 key만 사용\n",
    "\n",
    "# 결과 출력\n",
    "nouns_string"
   ]
  },
  {
   "cell_type": "code",
   "execution_count": 189,
   "metadata": {},
   "outputs": [
    {
     "data": {
      "image/png": "[encoded data removed]",
      "text/plain": [
       "<Figure size 1000x500 with 1 Axes>"
      ]
     },
     "metadata": {},
     "output_type": "display_data"
    }
   ],
   "source": [
    "# 워드 클라우드 생성\n",
    "wordcloud = WordCloud(width = 800, height = 400, background_color ='white').generate(nouns_string)\n",
    "\n",
    "# 워드 클라우드 표시\n",
    "plt.figure(figsize=(10, 5))\n",
    "plt.imshow(wordcloud, interpolation='bilinear')\n",
    "plt.axis(\"off\")\n",
    "plt.show()"
   ]
  },
  {
   "cell_type": "code",
   "execution_count": 185,
   "metadata": {},
   "outputs": [],
   "source": [
    "# !pip install konlpy"
   ]
  },
  {
   "cell_type": "code",
   "execution_count": 186,
   "metadata": {},
   "outputs": [],
   "source": [
    "# 자바 버전 이슈로 실행이 안됨\n",
    "\n",
    "\n",
    "# from konlpy.tag import Okt\n",
    "# import pandas as pd\n",
    "\n",
    "# # Okt 형태소 분석기 인스턴스 생성\n",
    "# okt = Okt()\n",
    "\n",
    "\n",
    "# # 모든 댓글을 하나의 문자열로 결합\n",
    "# comments_string = df['comment'].str.cat(sep=' ')\n",
    "\n",
    "# # 명사 추출\n",
    "# nouns = okt.nouns(comments_string)\n",
    "\n",
    "# # 추출된 명사를 다시 하나의 문자열로 결합\n",
    "# nouns_string = ' '.join(nouns)\n",
    "\n",
    "\n",
    "# # 워드 클라우드 생성\n",
    "# wordcloud = WordCloud(font_path = '/System/Library/Fonts/AppleGothic.ttf',\n",
    "#                       width = 800,\n",
    "#                       height = 400, \n",
    "#                       background_color ='white').generate(nouns_string)\n",
    "\n",
    "# # 워드 클라우드 표시\n",
    "# plt.figure(figsize=(100, 50))\n",
    "# plt.imshow(wordcloud, interpolation='bilinear')\n",
    "# plt.axis(\"off\")\n",
    "# plt.show()"
   ]
  }
 ],
 "metadata": {
  "kernelspec": {
   "display_name": "Python 3",
   "language": "python",
   "name": "python3"
  },
  "language_info": {
   "codemirror_mode": {
    "name": "ipython",
    "version": 3
   },
   "file_extension": ".py",
   "mimetype": "text/x-python",
   "name": "python",
   "nbconvert_exporter": "python",
   "pygments_lexer": "ipython3",
   "version": "3.9.6"
  }
 },
 "nbformat": 4,
 "nbformat_minor": 2
}
